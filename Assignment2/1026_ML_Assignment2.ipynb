{
  "nbformat": 4,
  "nbformat_minor": 0,
  "metadata": {
    "colab": {
      "name": "1026_ML_Assignment2.ipynb",
      "provenance": [],
      "collapsed_sections": [],
      "authorship_tag": "ABX9TyP7wloi8lYDYlkh6L+GWJ2q",
      "include_colab_link": true
    },
    "kernelspec": {
      "name": "python3",
      "display_name": "Python 3"
    },
    "language_info": {
      "name": "python"
    }
  },
  "cells": [
    {
      "cell_type": "markdown",
      "metadata": {
        "id": "view-in-github",
        "colab_type": "text"
      },
      "source": [
        "<a href=\"https://colab.research.google.com/github/nirjharr05/ML/blob/main/1026_ML_Assignment2.ipynb\" target=\"_parent\"><img src=\"https://colab.research.google.com/assets/colab-badge.svg\" alt=\"Open In Colab\"/></a>"
      ]
    },
    {
      "cell_type": "markdown",
      "metadata": {
        "id": "Z7GaIedsUrqj"
      },
      "source": [
        "**IMPORTING HEADERS**"
      ]
    },
    {
      "cell_type": "code",
      "metadata": {
        "id": "JZ5dM-QYUwtt"
      },
      "source": [
        "import numpy as np\n",
        "import pandas as pd\n",
        "import matplotlib.pyplot as plt\n",
        "import scikitplot as skplt"
      ],
      "execution_count": 18,
      "outputs": []
    },
    {
      "cell_type": "markdown",
      "metadata": {
        "id": "sDExAAmhUzQm"
      },
      "source": [
        "**PRE-PROCESSING DATA**"
      ]
    },
    {
      "cell_type": "code",
      "metadata": {
        "id": "sYL-PHRCKkiS"
      },
      "source": [
        "def preprocess(X,y,te_size,label=False,scale=False,pca=False):\n",
        "\n",
        "    if label:\n",
        "        from sklearn.preprocessing import LabelEncoder\n",
        "        y = LabelEncoder().fit_transform(y)\n",
        "\n",
        "    from sklearn.model_selection import train_test_split\n",
        "    X_tr,X_te,y_tr,y_te = train_test_split(X,y,test_size=te_size)\n",
        "\n",
        "    if scale:\n",
        "        from sklearn.preprocessing import StandardScaler\n",
        "        sc = StandardScaler()\n",
        "        X_tr = sc.fit_transform(X_tr)\n",
        "        X_te = sc.transform(X_te)\n",
        "\n",
        "    if pca:\n",
        "        from sklearn.decomposition import PCA\n",
        "        pca = PCA(n_components='mle')\n",
        "        X_tr = pca.fit_transform(X_tr)\n",
        "        X_te = pca.transform(X_te)\n",
        "    \n",
        "    return X_tr,X_te,y_tr,y_te\n"
      ],
      "execution_count": 19,
      "outputs": []
    },
    {
      "cell_type": "markdown",
      "metadata": {
        "id": "WCBbs3-uU-PD"
      },
      "source": [
        "**TESTER FUNCTION**"
      ]
    },
    {
      "cell_type": "code",
      "metadata": {
        "id": "fee4kkNVVAyU"
      },
      "source": [
        "def tester(classi,X_t,y_t,y_p):\n",
        "\n",
        "    from sklearn.metrics import classification_report,confusion_matrix,accuracy_score,plot_confusion_matrix\n",
        "    print(\"Confusion Matrix\")\n",
        "    print(confusion_matrix(y_t,y_p))\n",
        "\n",
        "    print('-----------------------------------')\n",
        "    print('-----------------------------------')\n",
        "\n",
        "    print('Preformance Evaluation:')\n",
        "    print(classification_report(y_t,y_p))\n",
        "\n",
        "    print('-----------------------------------')\n",
        "    print('-----------------------------------')\n",
        "\n",
        "    print('Accuracy Score:')\n",
        "    print(accuracy_score(y_t,y_p))\n",
        "\n",
        "    plot_confusion_matrix(classi,X_t,y_t)\n",
        "    plt.title('Heat map for confusion matrix')\n",
        "    plt.show()\n",
        "\n",
        "    y_p_proba = classifier.predict_proba(X_t)\n",
        "\n",
        "    skplt.metrics.plot_roc(y_t,y_p_proba)\n",
        "    plt.show()"
      ],
      "execution_count": 20,
      "outputs": []
    },
    {
      "cell_type": "markdown",
      "metadata": {
        "id": "qEyhmrb4VO_p"
      },
      "source": [
        " **WORKING ON WINE DATASET**\n",
        "\n",
        "---\n",
        "\n"
      ]
    },
    {
      "cell_type": "markdown",
      "metadata": {
        "id": "RyXfBdHAVFmg"
      },
      "source": [
        "**IMPORTING WINE DATASET**"
      ]
    },
    {
      "cell_type": "code",
      "metadata": {
        "id": "JLEWPKa5LWQj"
      },
      "source": [
        "df1 = pd.read_csv('breast-cancer-wisconsin.data', header=None)\n",
        "df1 = df1[df1[6]!='?']\n",
        "df1.shape\n",
        "X = df1.iloc[:,1:-1]\n",
        "y = df1[10]\n",
        "y = y.replace(2,0)\n",
        "y = y.replace(4,1)"
      ],
      "execution_count": 83,
      "outputs": []
    },
    {
      "cell_type": "markdown",
      "metadata": {
        "id": "cZcte1CNOyda"
      },
      "source": [
        "WITHOUT PARAMETER TUNING\n",
        "\n",
        "---\n",
        "\n"
      ]
    },
    {
      "cell_type": "markdown",
      "metadata": {
        "id": "aGw4EV5pVbic"
      },
      "source": [
        "FOR 70:30 SPLIT"
      ]
    },
    {
      "cell_type": "code",
      "metadata": {
        "id": "_rV0Y3fkHxjZ"
      },
      "source": [
        "X_train,X_test,y_train,y_test = preprocess(X,y,0.7,scale=True,pca=True)\n",
        "\n",
        "from sklearn.svm import SVC\n",
        "from sklearn.ensemble import RandomForestClassifier"
      ],
      "execution_count": 92,
      "outputs": []
    },
    {
      "cell_type": "code",
      "metadata": {
        "id": "BYbUg7cuY1X5"
      },
      "source": [
        "#SVM linear model\n",
        "classifier = SVC(kernel='linear', probability=True)\n",
        "classifier.fit(X_train,y_train)\n",
        "\n",
        "y_pred = classifier.predict(X_test)\n",
        "\n",
        "print('SVC Linear:')\n",
        "tester(classifier,X_test,y_test,y_pred)\n",
        "\n",
        "#SVM polynomial model degree 2\n",
        "classifier = SVC(kernel='poly', degree=2, probability=True)\n",
        "classifier.fit(X_train,y_train)\n",
        "\n",
        "y_pred = classifier.predict(X_test)\n",
        "\n",
        "print('SVC Polynomial degree 2:')\n",
        "tester(classifier,X_test,y_test,y_pred)\n",
        "\n",
        "#SVM polynomial model degree 3\n",
        "classifier = SVC(kernel='poly', degree=3, probability=True)\n",
        "classifier.fit(X_train,y_train)\n",
        "\n",
        "y_pred = classifier.predict(X_test)\n",
        "\n",
        "print('SVC Polynomial degree 3:')\n",
        "tester(classifier,X_test,y_test,y_pred)\n",
        "\n",
        "#SVM gaussian model\n",
        "classifier = SVC(kernel='rbf', probability=True)\n",
        "classifier.fit(X_train,y_train)\n",
        "\n",
        "y_pred = classifier.predict(X_test)\n",
        "\n",
        "print('SVC Gaussian:')\n",
        "tester(classifier,X_test,y_test,y_pred)\n",
        "\n",
        "#SVM sigmoid model\n",
        "classifier = SVC(kernel='sigmoid', probability=True)\n",
        "classifier.fit(X_train,y_train)\n",
        "\n",
        "y_pred = classifier.predict(X_test)\n",
        "\n",
        "print('SVC Sigmoid:')\n",
        "tester(classifier,X_test,y_test,y_pred)\n",
        "\n",
        "#mlp model\n",
        "from sklearn.neural_network import MLPClassifier\n",
        "classifier = MLPClassifier(max_iter=500)\n",
        "classifier.fit(X_train,y_train)\n",
        "\n",
        "y_pred = classifier.predict(X_test)\n",
        "\n",
        "print('MLP:')\n",
        "tester(classifier,X_test,y_test,y_pred)\n",
        "\n",
        "#random forest model\n",
        "classifier=RandomForestClassifier()\n",
        "classifier.fit(X_train,y_train)\n",
        "\n",
        "y_pred = classifier.predict(X_test)\n",
        "\n",
        "print('Random Forest Classifier:')\n",
        "tester(classifier,X_test,y_test,y_pred)"
      ],
      "execution_count": null,
      "outputs": []
    }
  ]
}
